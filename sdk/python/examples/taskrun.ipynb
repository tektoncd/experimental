{
 "cells": [
  {
   "cell_type": "markdown",
   "metadata": {},
   "source": [
    "# Sample for Tekton Pipeline Python SDK"
   ]
  },
  {
   "cell_type": "markdown",
   "metadata": {},
   "source": [
    "This is a sample for Tekton Pipeline Python SDK.\n",
    "\n",
    "The notebook shows how to use Tekton Pipeline Python SDK to create, get and delete TaskRun."
   ]
  },
  {
   "cell_type": "markdown",
   "metadata": {},
   "source": [
    "### Ensure the Tekton Pipeline Python SDK is installed\n",
    "\n",
    "The Python SDK already published in https://pypi.org/project/tekton-pipeline/"
   ]
  },
  {
   "cell_type": "code",
   "execution_count": 1,
   "metadata": {},
   "outputs": [
    {
     "name": "stdout",
     "output_type": "stream",
     "text": [
      "Name: tekton-pipeline\r\n",
      "Version: 0.0.4\r\n",
      "Summary: Tekton Pipeline Python SDK\r\n",
      "Home-page: https://github.com/tektoncd/pipeline.git\r\n",
      "Author: Tekton Authors\r\n",
      "Author-email: hejinchi@cn.ibm.com\r\n",
      "License: Apache License Version 2.0\r\n",
      "Location: /opt/python/python36/lib/python3.6/site-packages\r\n",
      "Requires: six, python-dateutil, setuptools, certifi, urllib3\r\n",
      "Required-by: \r\n"
     ]
    }
   ],
   "source": [
    "!pip show tekton-pipeline"
   ]
  },
  {
   "cell_type": "code",
   "execution_count": 2,
   "metadata": {},
   "outputs": [],
   "source": [
    "from kubernetes import client\n",
    "\n",
    "from tekton import TektonClient\n",
    "from tekton import V1beta1TaskRun\n",
    "from tekton import V1beta1TaskRunSpec\n",
    "from tekton import V1beta1TaskSpec\n",
    "from tekton import V1beta1Step"
   ]
  },
  {
   "cell_type": "markdown",
   "metadata": {},
   "source": [
    "### Instantiate a Tekton Python Client"
   ]
  },
  {
   "cell_type": "code",
   "execution_count": 3,
   "metadata": {},
   "outputs": [],
   "source": [
    "tekton_client = TektonClient()"
   ]
  },
  {
   "cell_type": "markdown",
   "metadata": {},
   "source": [
    "### Define a TaskRun"
   ]
  },
  {
   "cell_type": "code",
   "execution_count": 4,
   "metadata": {},
   "outputs": [],
   "source": [
    "taskrun = V1beta1TaskRun(\n",
    "    api_version='tekton.dev/v1beta1',\n",
    "    kind='TaskRun',\n",
    "    metadata=client.V1ObjectMeta(name='sdk-sample-taskrun'),\n",
    "    spec=V1beta1TaskRunSpec(\n",
    "        task_spec=V1beta1TaskSpec(\n",
    "            steps=[V1beta1Step(name='default',\n",
    "                            image='ubuntu',\n",
    "                            script='sleep 30;echo \"This is a sdk demo.')]\n",
    "        )))"
   ]
  },
  {
   "cell_type": "markdown",
   "metadata": {},
   "source": [
    "### Create a TaskRun"
   ]
  },
  {
   "cell_type": "code",
   "execution_count": 5,
   "metadata": {},
   "outputs": [
    {
     "data": {
      "text/plain": [
       "{'apiVersion': 'tekton.dev/v1beta1',\n",
       " 'kind': 'TaskRun',\n",
       " 'metadata': {'creationTimestamp': '2020-08-10T10:10:06Z',\n",
       "  'generation': 1,\n",
       "  'labels': {'app.kubernetes.io/managed-by': 'tekton-pipelines'},\n",
       "  'name': 'sdk-sample-taskrun',\n",
       "  'namespace': 'default',\n",
       "  'resourceVersion': '109797271',\n",
       "  'selfLink': '/apis/tekton.dev/v1beta1/namespaces/default/taskruns/sdk-sample-taskrun',\n",
       "  'uid': '99a36a20-5a1b-4f03-9fee-4869e659a141'},\n",
       " 'spec': {'serviceAccountName': '',\n",
       "  'taskSpec': {'steps': [{'image': 'ubuntu',\n",
       "     'name': 'default',\n",
       "     'resources': {},\n",
       "     'script': 'sleep 30;echo \"This is a sdk demo.'}]},\n",
       "  'timeout': '1h0m0s'}}"
      ]
     },
     "execution_count": 5,
     "metadata": {},
     "output_type": "execute_result"
    }
   ],
   "source": [
    "tekton_client.create(taskrun, namespace='default')"
   ]
  },
  {
   "cell_type": "markdown",
   "metadata": {},
   "source": [
    "### Get the create TaskRun"
   ]
  },
  {
   "cell_type": "code",
   "execution_count": 6,
   "metadata": {},
   "outputs": [
    {
     "data": {
      "text/plain": [
       "{'apiVersion': 'tekton.dev/v1beta1',\n",
       " 'kind': 'TaskRun',\n",
       " 'metadata': {'annotations': {'pipeline.tekton.dev/release': 'devel'},\n",
       "  'creationTimestamp': '2020-08-10T10:10:06Z',\n",
       "  'generation': 1,\n",
       "  'labels': {'app.kubernetes.io/managed-by': 'tekton-pipelines'},\n",
       "  'name': 'sdk-sample-taskrun',\n",
       "  'namespace': 'default',\n",
       "  'resourceVersion': '109797303',\n",
       "  'selfLink': '/apis/tekton.dev/v1beta1/namespaces/default/taskruns/sdk-sample-taskrun',\n",
       "  'uid': '99a36a20-5a1b-4f03-9fee-4869e659a141'},\n",
       " 'spec': {'serviceAccountName': '',\n",
       "  'taskSpec': {'steps': [{'image': 'ubuntu',\n",
       "     'name': 'default',\n",
       "     'resources': {},\n",
       "     'script': 'sleep 30;echo \"This is a sdk demo.'}]},\n",
       "  'timeout': '1h0m0s'},\n",
       " 'status': {'conditions': [{'lastTransitionTime': '2020-08-10T10:10:08Z',\n",
       "    'message': 'pod status \"Initialized\":\"False\"; message: \"containers with incomplete status: [place-tools]\"',\n",
       "    'reason': 'Pending',\n",
       "    'status': 'Unknown',\n",
       "    'type': 'Succeeded'}],\n",
       "  'podName': 'sdk-sample-taskrun-pod-qgnzd',\n",
       "  'startTime': '2020-08-10T10:10:06Z',\n",
       "  'steps': [{'container': 'step-default',\n",
       "    'name': 'default',\n",
       "    'waiting': {'reason': 'PodInitializing'}}],\n",
       "  'taskSpec': {'steps': [{'image': 'ubuntu',\n",
       "     'name': 'default',\n",
       "     'resources': {},\n",
       "     'script': 'sleep 30;echo \"This is a sdk demo.'}]}}}"
      ]
     },
     "execution_count": 6,
     "metadata": {},
     "output_type": "execute_result"
    }
   ],
   "source": [
    "tekton_client.get(name='sdk-sample-taskrun', plural='taskruns', namespace='default')"
   ]
  },
  {
   "cell_type": "markdown",
   "metadata": {},
   "source": [
    "### Delete a TaskRun"
   ]
  },
  {
   "cell_type": "code",
   "execution_count": 7,
   "metadata": {},
   "outputs": [
    {
     "data": {
      "text/plain": [
       "{'kind': 'Status',\n",
       " 'apiVersion': 'v1',\n",
       " 'metadata': {},\n",
       " 'status': 'Success',\n",
       " 'details': {'name': 'sdk-sample-taskrun',\n",
       "  'group': 'tekton.dev',\n",
       "  'kind': 'taskruns',\n",
       "  'uid': '99a36a20-5a1b-4f03-9fee-4869e659a141'}}"
      ]
     },
     "execution_count": 7,
     "metadata": {},
     "output_type": "execute_result"
    }
   ],
   "source": [
    "tekton_client.delete(name='sdk-sample-taskrun', plural='taskruns', namespace='default')"
   ]
  },
  {
   "cell_type": "code",
   "execution_count": null,
   "metadata": {},
   "outputs": [],
   "source": []
  }
 ],
 "metadata": {
  "kernelspec": {
   "display_name": "Python 3",
   "language": "python",
   "name": "python3"
  },
  "language_info": {
   "codemirror_mode": {
    "name": "ipython",
    "version": 3
   },
   "file_extension": ".py",
   "mimetype": "text/x-python",
   "name": "python",
   "nbconvert_exporter": "python",
   "pygments_lexer": "ipython3",
   "version": "3.6.9"
  }
 },
 "nbformat": 4,
 "nbformat_minor": 4
}
