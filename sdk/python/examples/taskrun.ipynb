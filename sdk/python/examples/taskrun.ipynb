{
 "cells": [
  {
   "cell_type": "markdown",
   "metadata": {},
   "source": [
    "# Sample for Tekton Pipeline Python SDK"
   ]
  },
  {
   "cell_type": "markdown",
   "metadata": {},
   "source": [
    "This is a sample for Tekton Pipeline Python SDK.\n",
    "\n",
    "The notebook shows how to use Tekton Pipeline Python SDK to create, get and delete TaskRun."
   ]
  },
  {
   "cell_type": "markdown",
   "metadata": {},
   "source": [
    "### Ensure the Tekton Pipeline Python SDK is installed\n",
    "\n",
    "The Python SDK already published in https://pypi.org/project/tekton-pipeline/"
   ]
  },
  {
   "cell_type": "code",
   "execution_count": 1,
   "metadata": {},
   "outputs": [
    {
     "name": "stdout",
     "output_type": "stream",
     "text": [
      "Name: tekton-pipeline\r\n",
      "Version: 0.1.1\r\n",
      "Summary: Tekton Pipeline Python SDK\r\n",
      "Home-page: https://github.com/tektoncd/pipeline.git\r\n",
      "Author: Tekton Authors\r\n",
      "Author-email: hejinchi@cn.ibm.com\r\n",
      "License: Apache License Version 2.0\r\n",
      "Location: /opt/python/python37/lib/python3.7/site-packages\r\n",
      "Requires: kubernetes, python-dateutil, setuptools, certifi, six, urllib3\r\n",
      "Required-by: \r\n"
     ]
    }
   ],
   "source": [
    "!pip show tekton-pipeline"
   ]
  },
  {
   "cell_type": "code",
   "execution_count": 2,
   "metadata": {},
   "outputs": [],
   "source": [
    "from kubernetes import client\n",
    "\n",
    "from tekton import TektonClient\n",
    "from tekton import V1beta1TaskRun\n",
    "from tekton import V1beta1TaskRunSpec\n",
    "from tekton import V1beta1TaskSpec\n",
    "from tekton import V1beta1Step"
   ]
  },
  {
   "cell_type": "markdown",
   "metadata": {},
   "source": [
    "### Instantiate a Tekton Python Client"
   ]
  },
  {
   "cell_type": "code",
   "execution_count": 3,
   "metadata": {},
   "outputs": [],
   "source": [
    "tekton_client = TektonClient()"
   ]
  },
  {
   "cell_type": "markdown",
   "metadata": {},
   "source": [
    "### Define a TaskRun"
   ]
  },
  {
   "cell_type": "code",
   "execution_count": 4,
   "metadata": {},
   "outputs": [],
   "source": [
    "taskrun = V1beta1TaskRun(\n",
    "    api_version='tekton.dev/v1beta1',\n",
    "    kind='TaskRun',\n",
    "    metadata=client.V1ObjectMeta(name='sdk-sample-taskrun'),\n",
    "    spec=V1beta1TaskRunSpec(\n",
    "        task_spec=V1beta1TaskSpec(\n",
    "            steps=[V1beta1Step(name='default',\n",
    "                            image='ubuntu',\n",
    "                            script='sleep 30;echo \"This is a sdk demo.\"')]\n",
    "        )))"
   ]
  },
  {
   "cell_type": "markdown",
   "metadata": {},
   "source": [
    "### Create a TaskRun"
   ]
  },
  {
   "cell_type": "code",
   "execution_count": 5,
   "metadata": {},
   "outputs": [
    {
     "data": {
      "text/plain": [
       "{'apiVersion': 'tekton.dev/v1beta1',\n",
       " 'kind': 'TaskRun',\n",
       " 'metadata': {'creationTimestamp': '2020-10-30T08:01:16Z',\n",
       "  'generation': 1,\n",
       "  'labels': {'app.kubernetes.io/managed-by': 'tekton-pipelines'},\n",
       "  'name': 'sdk-sample-taskrun',\n",
       "  'namespace': 'default',\n",
       "  'resourceVersion': '1562504',\n",
       "  'selfLink': '/apis/tekton.dev/v1beta1/namespaces/default/taskruns/sdk-sample-taskrun',\n",
       "  'uid': '94d0ac29-ba33-468a-96cb-e105a05dedc0'},\n",
       " 'spec': {'serviceAccountName': 'default',\n",
       "  'taskSpec': {'steps': [{'image': 'ubuntu',\n",
       "     'name': 'default',\n",
       "     'resources': {},\n",
       "     'script': 'sleep 30;echo \"This is a sdk demo.\"'}]},\n",
       "  'timeout': '1h0m0s'}}"
      ]
     },
     "execution_count": 5,
     "metadata": {},
     "output_type": "execute_result"
    }
   ],
   "source": [
    "tekton_client.create(taskrun, namespace='default')"
   ]
  },
  {
   "cell_type": "markdown",
   "metadata": {},
   "source": [
    "### Get the create TaskRun"
   ]
  },
  {
   "cell_type": "code",
   "execution_count": 6,
   "metadata": {},
   "outputs": [
    {
     "data": {
      "text/plain": [
       "{'apiVersion': 'tekton.dev/v1beta1',\n",
       " 'kind': 'TaskRun',\n",
       " 'metadata': {'annotations': {'pipeline.tekton.dev/release': 'v0.17.2'},\n",
       "  'creationTimestamp': '2020-10-30T08:01:16Z',\n",
       "  'generation': 1,\n",
       "  'labels': {'app.kubernetes.io/managed-by': 'tekton-pipelines'},\n",
       "  'name': 'sdk-sample-taskrun',\n",
       "  'namespace': 'default',\n",
       "  'resourceVersion': '1562893',\n",
       "  'selfLink': '/apis/tekton.dev/v1beta1/namespaces/default/taskruns/sdk-sample-taskrun',\n",
       "  'uid': '94d0ac29-ba33-468a-96cb-e105a05dedc0'},\n",
       " 'spec': {'serviceAccountName': 'default',\n",
       "  'taskSpec': {'steps': [{'image': 'ubuntu',\n",
       "     'name': 'default',\n",
       "     'resources': {},\n",
       "     'script': 'sleep 30;echo \"This is a sdk demo.\"'}]},\n",
       "  'timeout': '1h0m0s'},\n",
       " 'status': {'completionTime': '2020-10-30T08:01:56Z',\n",
       "  'conditions': [{'lastTransitionTime': '2020-10-30T08:01:56Z',\n",
       "    'message': 'All Steps have completed executing',\n",
       "    'reason': 'Succeeded',\n",
       "    'status': 'True',\n",
       "    'type': 'Succeeded'}],\n",
       "  'podName': 'sdk-sample-taskrun-pod-gsd87',\n",
       "  'startTime': '2020-10-30T08:01:16Z',\n",
       "  'steps': [{'container': 'step-default',\n",
       "    'imageID': 'docker.io/library/ubuntu@sha256:1d7b639619bdca2d008eca2d5293e3c43ff84cbee597ff76de3b7a7de3e84956',\n",
       "    'name': 'default',\n",
       "    'terminated': {'containerID': 'cri-o://54990a7c9e91b3d81418051dfde3f177977eefc0d72a127ee4c8c74b8efb07a2',\n",
       "     'exitCode': 0,\n",
       "     'finishedAt': '2020-10-30T08:01:56Z',\n",
       "     'reason': 'Completed',\n",
       "     'startedAt': '2020-10-30T08:01:25Z'}}],\n",
       "  'taskSpec': {'steps': [{'image': 'ubuntu',\n",
       "     'name': 'default',\n",
       "     'resources': {},\n",
       "     'script': 'sleep 30;echo \"This is a sdk demo.\"'}]}}}"
      ]
     },
     "execution_count": 6,
     "metadata": {},
     "output_type": "execute_result"
    }
   ],
   "source": [
    "tekton_client.get(name='sdk-sample-taskrun', plural='taskruns', namespace='default')"
   ]
  },
  {
   "cell_type": "markdown",
   "metadata": {},
   "source": [
    "### Delete a TaskRun"
   ]
  },
  {
   "cell_type": "code",
   "execution_count": null,
   "metadata": {},
   "outputs": [],
   "source": [
    "tekton_client.delete(name='sdk-sample-taskrun', plural='taskruns', namespace='default')"
   ]
  },
  {
   "cell_type": "code",
   "execution_count": null,
   "metadata": {},
   "outputs": [],
   "source": []
  }
 ],
 "metadata": {
  "kernelspec": {
   "display_name": "Python 3",
   "language": "python",
   "name": "python3"
  },
  "language_info": {
   "codemirror_mode": {
    "name": "ipython",
    "version": 3
   },
   "file_extension": ".py",
   "mimetype": "text/x-python",
   "name": "python",
   "nbconvert_exporter": "python",
   "pygments_lexer": "ipython3",
   "version": "3.7.9"
  }
 },
 "nbformat": 4,
 "nbformat_minor": 4
}
