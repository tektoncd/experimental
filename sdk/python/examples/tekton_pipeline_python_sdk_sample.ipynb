{
 "cells": [
  {
   "cell_type": "markdown",
   "metadata": {},
   "source": [
    "# Sample for Tekton Pipeline Python SDK"
   ]
  },
  {
   "cell_type": "markdown",
   "metadata": {},
   "source": [
    "This is a sample for Tekton Pipeline Python SDK.\n",
    "\n",
    "The notebook shows how to use Tekton Pipeline Python SDK to create, get and delete TaskRun."
   ]
  },
  {
   "cell_type": "markdown",
   "metadata": {},
   "source": [
    "### Ensure the Tekton Pipeline Python SDK is installed\n",
    "\n",
    "The Python SDK already published in https://pypi.org/project/tekton-pipeline/"
   ]
  },
  {
   "cell_type": "code",
   "execution_count": 1,
   "metadata": {},
   "outputs": [
    {
     "name": "stdout",
     "output_type": "stream",
     "text": [
      "Name: tekton-pipeline\r\n",
      "Version: 0.1.3\r\n",
      "Summary: Tekton Pipeline Python SDK\r\n",
      "Home-page: https://github.com/tektoncd/pipeline.git\r\n",
      "Author: Tekton Authors\r\n",
      "Author-email: hejinchi@cn.ibm.com\r\n",
      "License: Apache License Version 2.0\r\n",
      "Location: /opt/python/python37/lib/python3.7/site-packages\r\n",
      "Requires: setuptools, python-dateutil, table-logger, certifi, kubernetes, six, urllib3\r\n",
      "Required-by: \r\n"
     ]
    }
   ],
   "source": [
    "!pip show tekton-pipeline"
   ]
  },
  {
   "cell_type": "markdown",
   "metadata": {},
   "source": [
    "### Instantiate a Tekton Python Client"
   ]
  },
  {
   "cell_type": "code",
   "execution_count": 2,
   "metadata": {},
   "outputs": [],
   "source": [
    "from tekton_pipeline import TektonClient\n",
    "\n",
    "tekton_client = TektonClient()"
   ]
  },
  {
   "cell_type": "markdown",
   "metadata": {},
   "source": [
    "### Define a Task and submit"
   ]
  },
  {
   "cell_type": "code",
   "execution_count": 3,
   "metadata": {},
   "outputs": [
    {
     "data": {
      "text/plain": [
       "{'apiVersion': 'tekton.dev/v1beta1',\n",
       " 'kind': 'Task',\n",
       " 'metadata': {'creationTimestamp': '2020-11-05T09:05:06Z',\n",
       "  'generation': 1,\n",
       "  'name': 'sdk-sample-task',\n",
       "  'namespace': 'default',\n",
       "  'resourceVersion': '6266273',\n",
       "  'selfLink': '/apis/tekton.dev/v1beta1/namespaces/default/tasks/sdk-sample-task',\n",
       "  'uid': '281eeeca-043e-4a27-9243-0b3202c3ace1'},\n",
       " 'spec': {'steps': [{'image': 'ubuntu',\n",
       "    'name': 'default',\n",
       "    'resources': {},\n",
       "    'script': 'sleep 30;echo \"This is a sdk demo.\"'}]}}"
      ]
     },
     "execution_count": 3,
     "metadata": {},
     "output_type": "execute_result"
    }
   ],
   "source": [
    "from kubernetes import client as k8s_client\n",
    "from tekton_pipeline import V1beta1Task\n",
    "from tekton_pipeline import V1beta1TaskSpec\n",
    "from tekton_pipeline import V1beta1Step\n",
    "\n",
    "# Define the task\n",
    "task = V1beta1Task(api_version='tekton.dev/v1beta1',\n",
    "                   kind='TaskRun',\n",
    "                   metadata=k8s_client.V1ObjectMeta(name='sdk-sample-task'),\n",
    "                   spec=V1beta1TaskSpec(\n",
    "                       steps=[V1beta1Step(name='default',\n",
    "                              image='ubuntu',\n",
    "                              script='sleep 30;echo \"This is a sdk demo.\"')]\n",
    "                   ))\n",
    "\n",
    "# Submit the task to cluster\n",
    "tekton_client.create(entity='task', body=task, namespace='default')"
   ]
  },
  {
   "cell_type": "code",
   "execution_count": 4,
   "metadata": {},
   "outputs": [
    {
     "data": {
      "text/plain": [
       "{'apiVersion': 'tekton.dev/v1beta1',\n",
       " 'kind': 'Task',\n",
       " 'metadata': {'creationTimestamp': '2020-11-05T09:05:06Z',\n",
       "  'generation': 2,\n",
       "  'name': 'sdk-sample-task',\n",
       "  'namespace': 'default',\n",
       "  'resourceVersion': '6266302',\n",
       "  'selfLink': '/apis/tekton.dev/v1beta1/namespaces/default/tasks/sdk-sample-task',\n",
       "  'uid': '281eeeca-043e-4a27-9243-0b3202c3ace1'},\n",
       " 'spec': {'steps': [{'image': 'ubuntu',\n",
       "    'name': 'default',\n",
       "    'resources': {},\n",
       "    'script': 'sleep 30;echo \"This is a sdk patch demo.\"'}]}}"
      ]
     },
     "execution_count": 4,
     "metadata": {},
     "output_type": "execute_result"
    }
   ],
   "source": [
    "# Update the task defination\n",
    "task = V1beta1Task(api_version='tekton.dev/v1beta1',\n",
    "                   kind='TaskRun',\n",
    "                   metadata=k8s_client.V1ObjectMeta(name='sdk-sample-task'),\n",
    "                   spec=V1beta1TaskSpec(\n",
    "                       steps=[V1beta1Step(name='default',\n",
    "                              image='ubuntu',\n",
    "                              script='sleep 30;echo \"This is a sdk patch demo.\"')]\n",
    "                   ))\n",
    "\n",
    "# Patch the task\n",
    "tekton_client.patch(entity='task', name='sdk-sample-task', body=task, namespace='default')"
   ]
  },
  {
   "cell_type": "markdown",
   "metadata": {},
   "source": [
    "### Get the Patched Task"
   ]
  },
  {
   "cell_type": "code",
   "execution_count": 5,
   "metadata": {},
   "outputs": [
    {
     "data": {
      "text/plain": [
       "{'apiVersion': 'tekton.dev/v1beta1',\n",
       " 'kind': 'Task',\n",
       " 'metadata': {'creationTimestamp': '2020-11-05T09:05:06Z',\n",
       "  'generation': 2,\n",
       "  'name': 'sdk-sample-task',\n",
       "  'namespace': 'default',\n",
       "  'resourceVersion': '6266302',\n",
       "  'selfLink': '/apis/tekton.dev/v1beta1/namespaces/default/tasks/sdk-sample-task',\n",
       "  'uid': '281eeeca-043e-4a27-9243-0b3202c3ace1'},\n",
       " 'spec': {'steps': [{'image': 'ubuntu',\n",
       "    'name': 'default',\n",
       "    'resources': {},\n",
       "    'script': 'sleep 30;echo \"This is a sdk patch demo.\"'}]}}"
      ]
     },
     "execution_count": 5,
     "metadata": {},
     "output_type": "execute_result"
    }
   ],
   "source": [
    "tekton_client.get(entity='task', name='sdk-sample-task', namespace='default')"
   ]
  },
  {
   "cell_type": "markdown",
   "metadata": {},
   "source": [
    "### Define a TaskRun"
   ]
  },
  {
   "cell_type": "code",
   "execution_count": 6,
   "metadata": {},
   "outputs": [
    {
     "data": {
      "text/plain": [
       "{'apiVersion': 'tekton.dev/v1beta1',\n",
       " 'kind': 'TaskRun',\n",
       " 'metadata': {'creationTimestamp': '2020-11-05T09:05:13Z',\n",
       "  'generation': 1,\n",
       "  'labels': {'app.kubernetes.io/managed-by': 'tekton-pipelines'},\n",
       "  'name': 'sdk-sample-taskrun',\n",
       "  'namespace': 'default',\n",
       "  'resourceVersion': '6266343',\n",
       "  'selfLink': '/apis/tekton.dev/v1beta1/namespaces/default/taskruns/sdk-sample-taskrun',\n",
       "  'uid': '43e51f39-749c-4ac9-b3f9-6f3cb5df0180'},\n",
       " 'spec': {'serviceAccountName': 'default',\n",
       "  'taskRef': {'kind': 'Task', 'name': 'sdk-sample-task'},\n",
       "  'timeout': '1h0m0s'}}"
      ]
     },
     "execution_count": 6,
     "metadata": {},
     "output_type": "execute_result"
    }
   ],
   "source": [
    "from tekton_pipeline import V1beta1TaskRun\n",
    "from tekton_pipeline import V1beta1TaskRunSpec\n",
    "from tekton_pipeline import V1beta1TaskRef\n",
    "\n",
    "# Define the taskrun\n",
    "taskrun = V1beta1TaskRun(\n",
    "    api_version='tekton.dev/v1beta1',\n",
    "    kind='TaskRun',\n",
    "    metadata=k8s_client.V1ObjectMeta(name='sdk-sample-taskrun'),\n",
    "    spec=V1beta1TaskRunSpec(\n",
    "        task_ref=V1beta1TaskRef(name='sdk-sample-task')\n",
    "    ))\n",
    "\n",
    "# Create the taskrun\n",
    "tekton_client.create(entity='taskrun', body=taskrun, namespace='default')"
   ]
  },
  {
   "cell_type": "markdown",
   "metadata": {},
   "source": [
    "### Watch the created TaskRun"
   ]
  },
  {
   "cell_type": "code",
   "execution_count": 7,
   "metadata": {},
   "outputs": [
    {
     "name": "stdout",
     "output_type": "stream",
     "text": [
      "NAME                 SUCCEEDED            REASON               STARTED              COMPLETED           \n",
      "sdk-sample-taskrun   Unknown              Pending              2020-11-05T09:05:13Z                     \n",
      "sdk-sample-taskrun   Unknown              Pending              2020-11-05T09:05:13Z                     \n",
      "sdk-sample-taskrun   Unknown              Pending              2020-11-05T09:05:13Z                     \n",
      "sdk-sample-taskrun   Unknown              Running              2020-11-05T09:05:13Z                     \n",
      "sdk-sample-taskrun   True                 Succeeded            2020-11-05T09:05:13Z 2020-11-05T09:05:54Z\n"
     ]
    }
   ],
   "source": [
    "tekton_client.get(entity='taskrun', name='sdk-sample-taskrun', namespace='default', watch=True)"
   ]
  },
  {
   "cell_type": "markdown",
   "metadata": {},
   "source": [
    "### Define Pipeline and submit "
   ]
  },
  {
   "cell_type": "code",
   "execution_count": 8,
   "metadata": {},
   "outputs": [
    {
     "data": {
      "text/plain": [
       "{'apiVersion': 'tekton.dev/v1beta1',\n",
       " 'kind': 'Pipeline',\n",
       " 'metadata': {'creationTimestamp': '2020-11-05T09:07:18Z',\n",
       "  'generation': 1,\n",
       "  'name': 'sdk-sample-pipeline',\n",
       "  'namespace': 'default',\n",
       "  'resourceVersion': '6267499',\n",
       "  'selfLink': '/apis/tekton.dev/v1beta1/namespaces/default/pipelines/sdk-sample-pipeline',\n",
       "  'uid': 'b4e267a2-e7a4-4d88-bb3e-b4fdda0acca0'},\n",
       " 'spec': {'tasks': [{'name': 'sdk-sample-pipeline-task',\n",
       "    'taskRef': {'kind': 'Task', 'name': 'sdk-sample-task'}}]}}"
      ]
     },
     "execution_count": 8,
     "metadata": {},
     "output_type": "execute_result"
    }
   ],
   "source": [
    "from tekton_pipeline import V1beta1Pipeline\n",
    "from tekton_pipeline import V1beta1PipelineSpec\n",
    "from tekton_pipeline import V1beta1PipelineTask\n",
    "\n",
    "# Define the pipeline\n",
    "pipeline = V1beta1Pipeline(\n",
    "    api_version='tekton.dev/v1beta1',\n",
    "    kind='Pipeline',\n",
    "    metadata=k8s_client.V1ObjectMeta(name='sdk-sample-pipeline'),\n",
    "    spec=V1beta1PipelineSpec(tasks=[\n",
    "        V1beta1PipelineTask(\n",
    "            name='sdk-sample-pipeline-task',\n",
    "            task_ref=V1beta1TaskRef(name='sdk-sample-task')\n",
    "        )]\n",
    "    ))\n",
    "\n",
    "\n",
    "# Create the pipeline\n",
    "tekton_client.create(entity='pipeline', body=pipeline, namespace='default')"
   ]
  },
  {
   "cell_type": "markdown",
   "metadata": {},
   "source": [
    "### Define PipelineRun and submit"
   ]
  },
  {
   "cell_type": "code",
   "execution_count": 9,
   "metadata": {},
   "outputs": [
    {
     "data": {
      "text/plain": [
       "{'apiVersion': 'tekton.dev/v1beta1',\n",
       " 'kind': 'PipelineRun',\n",
       " 'metadata': {'creationTimestamp': '2020-11-05T09:07:23Z',\n",
       "  'generation': 1,\n",
       "  'name': 'sdk-sample-pipelinerun',\n",
       "  'namespace': 'default',\n",
       "  'resourceVersion': '6267538',\n",
       "  'selfLink': '/apis/tekton.dev/v1beta1/namespaces/default/pipelineruns/sdk-sample-pipelinerun',\n",
       "  'uid': '47d1e953-f1a2-492b-b1ea-b6f004fd260e'},\n",
       " 'spec': {'pipelineRef': {'name': 'sdk-sample-pipeline'},\n",
       "  'serviceAccountName': 'default',\n",
       "  'timeout': '1h0m0s'}}"
      ]
     },
     "execution_count": 9,
     "metadata": {},
     "output_type": "execute_result"
    }
   ],
   "source": [
    "from tekton_pipeline import V1beta1PipelineRun\n",
    "from tekton_pipeline import V1beta1PipelineRunSpec\n",
    "from tekton_pipeline import V1beta1PipelineRef\n",
    "\n",
    "pipelinerun = V1beta1PipelineRun(\n",
    "    api_version='tekton.dev/v1beta1',\n",
    "    kind='PipelineRun',\n",
    "    metadata=k8s_client.V1ObjectMeta(name='sdk-sample-pipelinerun'),\n",
    "    spec=V1beta1PipelineRunSpec(\n",
    "        pipeline_ref=V1beta1PipelineRef(\n",
    "            name='sdk-sample-pipeline')\n",
    "    ))\n",
    "\n",
    "\n",
    "tekton_client.create(entity='pipelinerun', body=pipelinerun, namespace='default')"
   ]
  },
  {
   "cell_type": "markdown",
   "metadata": {},
   "source": [
    "### Watch the PipelineRun"
   ]
  },
  {
   "cell_type": "code",
   "execution_count": 10,
   "metadata": {},
   "outputs": [
    {
     "name": "stdout",
     "output_type": "stream",
     "text": [
      "NAME                 SUCCEEDED            REASON               STARTED              COMPLETED           \n",
      "sdk-sample-pipeli... Unknown              Running              2020-11-05T09:07:23Z                     \n",
      "sdk-sample-pipeli... Unknown              Running              2020-11-05T09:07:23Z                     \n",
      "sdk-sample-pipeli... Unknown              Running              2020-11-05T09:07:23Z                     \n",
      "sdk-sample-pipeli... Unknown              Running              2020-11-05T09:07:23Z                     \n",
      "sdk-sample-pipeli... True                 Succeeded            2020-11-05T09:07:23Z 2020-11-05T09:08:03Z\n"
     ]
    }
   ],
   "source": [
    "tekton_client.get(entity='pipelinerun', name='sdk-sample-pipelinerun', namespace='default', watch=True)"
   ]
  },
  {
   "cell_type": "markdown",
   "metadata": {},
   "source": [
    "### Delete a TaskRun"
   ]
  },
  {
   "cell_type": "code",
   "execution_count": 11,
   "metadata": {},
   "outputs": [
    {
     "data": {
      "text/plain": [
       "{'kind': 'Status',\n",
       " 'apiVersion': 'v1',\n",
       " 'metadata': {},\n",
       " 'status': 'Success',\n",
       " 'details': {'name': 'sdk-sample-pipelinerun',\n",
       "  'group': 'tekton.dev',\n",
       "  'kind': 'pipelineruns',\n",
       "  'uid': '47d1e953-f1a2-492b-b1ea-b6f004fd260e'}}"
      ]
     },
     "execution_count": 11,
     "metadata": {},
     "output_type": "execute_result"
    }
   ],
   "source": [
    "tekton_client.delete(entity='pipelinerun', name='sdk-sample-pipelinerun', namespace='default')"
   ]
  },
  {
   "cell_type": "code",
   "execution_count": 12,
   "metadata": {},
   "outputs": [
    {
     "data": {
      "text/plain": [
       "{'kind': 'Status',\n",
       " 'apiVersion': 'v1',\n",
       " 'metadata': {},\n",
       " 'status': 'Success',\n",
       " 'details': {'name': 'sdk-sample-pipeline',\n",
       "  'group': 'tekton.dev',\n",
       "  'kind': 'pipelines',\n",
       "  'uid': 'b4e267a2-e7a4-4d88-bb3e-b4fdda0acca0'}}"
      ]
     },
     "execution_count": 12,
     "metadata": {},
     "output_type": "execute_result"
    }
   ],
   "source": [
    "tekton_client.delete(entity='pipeline', name='sdk-sample-pipeline', namespace='default')"
   ]
  },
  {
   "cell_type": "code",
   "execution_count": 13,
   "metadata": {},
   "outputs": [
    {
     "data": {
      "text/plain": [
       "{'kind': 'Status',\n",
       " 'apiVersion': 'v1',\n",
       " 'metadata': {},\n",
       " 'status': 'Success',\n",
       " 'details': {'name': 'sdk-sample-taskrun',\n",
       "  'group': 'tekton.dev',\n",
       "  'kind': 'taskruns',\n",
       "  'uid': '43e51f39-749c-4ac9-b3f9-6f3cb5df0180'}}"
      ]
     },
     "execution_count": 13,
     "metadata": {},
     "output_type": "execute_result"
    }
   ],
   "source": [
    "tekton_client.delete(entity='taskrun', name='sdk-sample-taskrun', namespace='default')"
   ]
  },
  {
   "cell_type": "code",
   "execution_count": 14,
   "metadata": {},
   "outputs": [
    {
     "data": {
      "text/plain": [
       "{'kind': 'Status',\n",
       " 'apiVersion': 'v1',\n",
       " 'metadata': {},\n",
       " 'status': 'Success',\n",
       " 'details': {'name': 'sdk-sample-task',\n",
       "  'group': 'tekton.dev',\n",
       "  'kind': 'tasks',\n",
       "  'uid': '281eeeca-043e-4a27-9243-0b3202c3ace1'}}"
      ]
     },
     "execution_count": 14,
     "metadata": {},
     "output_type": "execute_result"
    }
   ],
   "source": [
    "tekton_client.delete(entity='task', name='sdk-sample-task', namespace='default')"
   ]
  },
  {
   "cell_type": "code",
   "execution_count": null,
   "metadata": {},
   "outputs": [],
   "source": []
  }
 ],
 "metadata": {
  "kernelspec": {
   "display_name": "Python 3",
   "language": "python",
   "name": "python3"
  },
  "language_info": {
   "codemirror_mode": {
    "name": "ipython",
    "version": 3
   },
   "file_extension": ".py",
   "mimetype": "text/x-python",
   "name": "python",
   "nbconvert_exporter": "python",
   "pygments_lexer": "ipython3",
   "version": "3.7.9"
  }
 },
 "nbformat": 4,
 "nbformat_minor": 4
}
